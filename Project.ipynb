{
 "cells": [
  {
   "cell_type": "markdown",
   "id": "0973947b",
   "metadata": {},
   "source": [
    "# Вычисление площадей минимального и максимального треугольника (квадрата) на множестве точек плоскости #\n",
    "-------------------------------------------------------------------------------------------------"
   ]
  },
  {
   "cell_type": "markdown",
   "id": "47ada93f",
   "metadata": {},
   "source": [
    "Импортируем необходимые библиотеки для проекта"
   ]
  },
  {
   "cell_type": "code",
   "execution_count": 1,
   "id": "4c7a0025",
   "metadata": {},
   "outputs": [],
   "source": [
    "from random import randrange\n",
    "from typing import List\n",
    "from IPython.display import display\n",
    "import matplotlib.pyplot as plt\n",
    "\n",
    "%matplotlib inline"
   ]
  },
  {
   "cell_type": "markdown",
   "id": "135fe3b1",
   "metadata": {},
   "source": [
    "Создадим класс Point, имеющий атрибуты X и Y - это будут координаты созданной точки"
   ]
  },
  {
   "cell_type": "code",
   "execution_count": 2,
   "id": "628f865e",
   "metadata": {},
   "outputs": [],
   "source": [
    "class Point:\n",
    "    def __init__(self, x: float, y: float):\n",
    "        self.x = x\n",
    "        self.y = y"
   ]
  },
  {
   "cell_type": "markdown",
   "id": "eccbcc73",
   "metadata": {},
   "source": [
    "#### Функция для генерации точек на плоскости"
   ]
  },
  {
   "cell_type": "markdown",
   "id": "df1de716",
   "metadata": {},
   "source": [
    "Функция принимает три параметра:\n",
    "\n",
    "    * count: Количество точек на плоскости\n",
    "\n",
    "    * Параметры of и to задают диапазон по X и Y\n",
    "\n",
    "Алгоритм функции:\n",
    "    1. Создаётся массив для хранения точек\n",
    "    2. Запускается цикл, который остановиться после создания заданного количества точек\n",
    "    3. Внутри цикла в массив, при помощи функции append(), добавляется точка с рандомными координатами\n",
    "    \n",
    "Функция возвращает массив с точками"
   ]
  },
  {
   "cell_type": "code",
   "execution_count": 3,
   "id": "e0eb1b8e",
   "metadata": {},
   "outputs": [],
   "source": [
    "def generate_point(count: int, of: int, to: int) -> List[Point]:\n",
    "    points: List[Point] = []\n",
    "    for i in range(count):\n",
    "        points.append(Point(randrange(of, to), randrange(of, to)))\n",
    "    return points"
   ]
  },
  {
   "cell_type": "markdown",
   "id": "77b8af42",
   "metadata": {},
   "source": [
    "#### Добавим немного интерактива в наш проект\n",
    "Следующий код добавляет ползунки, при помощи которых можно выбрать количество точек и диапозон, отобразим их позже"
   ]
  },
  {
   "cell_type": "code",
   "execution_count": 4,
   "id": "8a013620",
   "metadata": {},
   "outputs": [],
   "source": [
    "from ipywidgets import IntSlider\n",
    "\n",
    "slider_points = IntSlider(\n",
    "    value=100, # Первоначальное значение\n",
    "    min=0,     # Минимум\n",
    "    max=500,  # Максимум\n",
    "    step=1,  # Шаг изменения\n",
    "    description='Points:',\n",
    "    continuous_update=False,  # True - событие observe возникает для каждого шага при изменении значения\n",
    "    orientation='horizontal'  # Горизонтальное или вертикальное расположение\n",
    ")\n",
    "\n",
    "slider_of = IntSlider(\n",
    "    value=-100, # Первоначальное значение\n",
    "    min=-500,     # Минимум\n",
    "    max=0,  # Максимум\n",
    "    step=1,  # Шаг изменения\n",
    "    description='Of:',\n",
    "    continuous_update=False,  # True - событие observe возникает для каждого шага при изменении значения\n",
    "    orientation='horizontal'  # Горизонтальное или вертикальное расположение\n",
    ")\n",
    "\n",
    "slider_to = IntSlider(\n",
    "    value=100, # Первоначальное значение\n",
    "    min=0,     # Минимум\n",
    "    max=500,  # Максимум\n",
    "    step=1,  # Шаг изменения\n",
    "    description='To:',\n",
    "    continuous_update=False,  # True - событие observe возникает для каждого шага при изменении значения\n",
    "    orientation='horizontal'  # Горизонтальное или вертикальное расположение\n",
    ")"
   ]
  },
  {
   "cell_type": "markdown",
   "id": "054dbaf8",
   "metadata": {},
   "source": [
    "## Теория"
   ]
  },
  {
   "cell_type": "markdown",
   "id": "aa0eff12",
   "metadata": {},
   "source": [
    "### Как найти площадь треугольника (квадрата) по координатам его вершин?\n",
    "\n",
    "**Будем выводить формулу**\n",
    "\n",
    "Для вывода формулы площади многоугольника нам понадобятся сведения из вычислительной геометрии, а именно, понятие ориентированной площади треугольника.\n",
    "\n",
    "Ориентированная площадь треугольника – это обычная площадь, снабженная знаком. Знак ориентированной площади треугольника АВС такой же, как у ориентированного угла между векторами AB и AC. То есть ее знак зависит от порядка перечисления вершин.\n",
    "\n",
    "![Визуализация векторов](image/2.png)\n",
    "\n",
    "На рис.1 треугольник АВС – прямоугольный. Его ориентированная площадь равна ![Визуализация векторов](image/3.gif)\n",
    "(она больше нуля, так как пара OB, OC. Площадь многоугольника ориентирована положительно).  Эту же величину можно вычислить другим способом.\n",
    "\n",
    "Пусть О – произвольная точка плоскости. На рисунке площадь треугольника ABC получится, если из площади треугольника OBC вычесть площади OAB и OCA. Таким образом, нужно просто сложить ориентированные площади треугольников OAB, OBC и OCA. Это правило работает при любом выборе точки О.\n",
    "\n",
    "Точно так же для вычисления площади любого многоугольника ![Точки](image/4.gif)\n",
    "нужно сложить ориентированные площади треугольников ![Точки](image/5.gif)\n",
    "![Точки](image/3.png)\n",
    "\n",
    "В сумме получится площадь многоугольника, взятая со знаком плюс, если при обходе ломаной ![Точки](image/4.gif)\n",
    "многоугольника находится слева (обход границы против часовой стрелки), и со знаком минус, если он находится справа (обход по часовой стрелке).\n",
    "\n",
    "Итак, вычисление площади многоугольника свелось к нахождению площади треугольника. Посмотрим, как выразить ее в координатах.\n",
    "\n",
    "Векторное произведение двух векторов на плоскости есть площадь параллелограмма, построенного на этих векторах.\n",
    "\n",
    "![Точки](image/4.png)\n",
    "\n",
    "Векторное произведение, выраженное через координаты векторов:\n",
    "\n",
    "![Точки](image/6.gif)\n",
    "\n",
    "Площадь треугольника будет равна половине этой площади:\n",
    "\n",
    "![Точки](image/7.gif)\n",
    "\n",
    "В качестве точки О удобно взять начало координат, тогда координаты векторов, на основании которых вычисляются ориентированные площади, совпадут с координатами точек.\n",
    "\n",
    "Пусть (х1, y1), (x2, у2), …, (хN,уN) —координаты вершин заданного многоугольника в порядке обхода по или против часовой стрелки. Тогда его ориентированная площадь S будет равна:\n",
    "\n",
    "![Точки](image/5.png)\n",
    "\n",
    "Это и есть наша рабочая формула, она используется в нашей программе\n",
    "\n",
    "---\n",
    "\n",
    "Напишем функцию, которая нам пригодится и для треугольника и для квадрата"
   ]
  },
  {
   "cell_type": "markdown",
   "id": "a25268c1",
   "metadata": {},
   "source": [
    "#### Функция для нахождения координат вектора\n",
    "\n",
    "Функция принимает два параметра:\n",
    "\n",
    "    * point_start: Начало вектора\n",
    "\n",
    "    * point_end: Конец вектора\n",
    "\n",
    "Для нахождения координат вектора, необходимо из координат конца вектора вычесть начальные координаты\n",
    "\n",
    "Функция возвращает координаты вектора"
   ]
  },
  {
   "cell_type": "code",
   "execution_count": 5,
   "id": "3cfd99b7",
   "metadata": {},
   "outputs": [],
   "source": [
    "def vector_coordinates(point_start: Point, point_end: Point):\n",
    "    return point_end.x - point_start.x, point_end.y - point_start.y"
   ]
  },
  {
   "cell_type": "markdown",
   "id": "75d27a4e",
   "metadata": {},
   "source": [
    "## Итак, начнём с треугольника\n",
    "------------------------"
   ]
  },
  {
   "cell_type": "markdown",
   "id": "b741310b",
   "metadata": {},
   "source": [
    "#### Функция для нахождения площади\n",
    "\n",
    "В параметрах передаются массивы, содержащие 2 элемента: X, Y\n",
    "\n",
    "Для нахождения площади воспользуемся найденной формулой\n",
    "\n",
    "Функция возвращает площадь треугольника"
   ]
  },
  {
   "cell_type": "code",
   "execution_count": 6,
   "id": "86b46cd0",
   "metadata": {},
   "outputs": [],
   "source": [
    "def area_triangle(vector_a: tuple[float, float], vector_b: tuple[float, float]):\n",
    "    return abs(vector_a[0] * vector_b[1] - vector_a[1] * vector_b[0]) / 2"
   ]
  },
  {
   "cell_type": "markdown",
   "id": "d9647aba",
   "metadata": {},
   "source": [
    "#### Основная функция для нахождения максимальной и минимальной площади треугольника, которая также вернёт координаты найденных треугольников с максимальной и минимальной площадью\n",
    "\n",
    "Перед тем как перейти к написанию алгоритма, необходимо разобраться, что он будет делать.\n",
    "\n",
    "Идея следующая: взять 3 точки из списка, найти векторы и расчитать площадь по формуле.\n",
    "\n",
    "Для взятия 3-х точек из списка воспользуемся циклами. Но у нас возникнет следующая проблема.\n",
    "\n",
    "#### Проблема\n",
    "\n",
    "Если использовать наивный перебор точек, может возникнуть ситуация когда для нескольких точек - площадь будет считаться по несколько раз, что серьёзно замедлит исполнение кода.\n",
    "\n",
    "#### Анализ\n",
    "\n",
    "У нас есть список, состоящий из 6 точек:\n",
    "    \n",
    "```points = [1, 2, 3, 4, 5, 6]```\n",
    "    \n",
    "Воспользуемся наивным перебором:\n",
    "\n",
    "```\n",
    "variations = []\n",
    "count = 0\n",
    "\n",
    "for i in range(len(points)):\n",
    "    for j in range(len(points)):\n",
    "        for k in range(len(points)):\n",
    "            box = [points[i], points[j], points[k]]\"\n",
    "            variations += box\n",
    "            count += 1\n",
    "```\n",
    "\n",
    "Получаем следующие комбинации точек:\n",
    "\n",
    "[1, 1, 1][1, 1, 2][1, 1, 3][1, 1, 4][1, 1, 5][1, 1, 6]  \n",
    "[1, 2, 1][1, 2, 2][1, 2, 3][1, 2, 4][1, 2, 5][1, 2, 6]  \n",
    "[1, 3, 1][1, 3, 2][1, 3, 3][1, 3, 4][1, 3, 5][1, 3, 6]  \n",
    "[1, 4, 1][1, 4, 2][1, 4, 3][1, 4, 4][1, 4, 5][1, 4, 6]  \n",
    "[1, 5, 1][1, 5, 2][1, 5, 3][1, 5, 4][1, 5, 5][1, 5, 6]  \n",
    "[1, 6, 1][1, 6, 2][1, 6, 3][1, 6, 4][1, 6, 5][1, 6, 6]  \n",
    "[2, 1, 1][2, 1, 2][2, 1, 3][2, 1, 4][2, 1, 5][2, 1, 6]  \n",
    "[2, 2, 1][2, 2, 2][2, 2, 3][2, 2, 4][2, 2, 5][2, 2, 6]  \n",
    "[2, 3, 1][2, 3, 2][2, 3, 3][2, 3, 4][2, 3, 5][2, 3, 6]  \n",
    "[2, 4, 1][2, 4, 2][2, 4, 3][2, 4, 4][2, 4, 5][2, 4, 6]  \n",
    "[2, 5, 1][2, 5, 2][2, 5, 3][2, 5, 4][2, 5, 5][2, 5, 6]  \n",
    "[2, 6, 1][2, 6, 2][2, 6, 3][2, 6, 4][2, 6, 5][2, 6, 6]  \n",
    "[3, 1, 1][3, 1, 2][3, 1, 3][3, 1, 4][3, 1, 5][3, 1, 6]  \n",
    "[3, 2, 1][3, 2, 2][3, 2, 3][3, 2, 4][3, 2, 5][3, 2, 6]  \n",
    "[3, 3, 1][3, 3, 2][3, 3, 3][3, 3, 4][3, 3, 5][3, 3, 6]  \n",
    "[3, 4, 1][3, 4, 2][3, 4, 3][3, 4, 4][3, 4, 5][3, 4, 6]  \n",
    "[3, 5, 1][3, 5, 2][3, 5, 3][3, 5, 4][3, 5, 5][3, 5, 6]  \n",
    "[3, 6, 1][3, 6, 2][3, 6, 3][3, 6, 4][3, 6, 5][3, 6, 6]  \n",
    "[4, 1, 1][4, 1, 2][4, 1, 3][4, 1, 4][4, 1, 5][4, 1, 6]  \n",
    "[4, 2, 1][4, 2, 2][4, 2, 3][4, 2, 4][4, 2, 5][4, 2, 6]  \n",
    "[4, 3, 1][4, 3, 2][4, 3, 3][4, 3, 4][4, 3, 5][4, 3, 6]  \n",
    "[4, 4, 1][4, 4, 2][4, 4, 3][4, 4, 4][4, 4, 5][4, 4, 6]  \n",
    "[4, 5, 1][4, 5, 2][4, 5, 3][4, 5, 4][4, 5, 5][4, 5, 6]  \n",
    "[4, 6, 1][4, 6, 2][4, 6, 3][4, 6, 4][4, 6, 5][4, 6, 6]  \n",
    "[5, 1, 1][5, 1, 2][5, 1, 3][5, 1, 4][5, 1, 5][5, 1, 6]  \n",
    "[5, 2, 1][5, 2, 2][5, 2, 3][5, 2, 4][5, 2, 5][5, 2, 6]  \n",
    "[5, 3, 1][5, 3, 2][5, 3, 3][5, 3, 4][5, 3, 5][5, 3, 6]  \n",
    "[5, 4, 1][5, 4, 2][5, 4, 3][5, 4, 4][5, 4, 5][5, 4, 6]  \n",
    "[5, 5, 1][5, 5, 2][5, 5, 3][5, 5, 4][5, 5, 5][5, 5, 6]  \n",
    "[5, 6, 1][5, 6, 2][5, 6, 3][5, 6, 4][5, 6, 5][5, 6, 6]  \n",
    "[6, 1, 1][6, 1, 2][6, 1, 3][6, 1, 4][6, 1, 5][6, 1, 6]  \n",
    "[6, 2, 1][6, 2, 2][6, 2, 3][6, 2, 4][6, 2, 5][6, 2, 6]  \n",
    "[6, 3, 1][6, 3, 2][6, 3, 3][6, 3, 4][6, 3, 5][6, 3, 6]  \n",
    "[6, 4, 1][6, 4, 2][6, 4, 3][6, 4, 4][6, 4, 5][6, 4, 6]  \n",
    "[6, 5, 1][6, 5, 2][6, 5, 3][6, 5, 4][6, 5, 5][6, 5, 6]  \n",
    "[6, 6, 1][6, 6, 2][6, 6, 3][6, 6, 4][6, 6, 5][6, 6, 6]  \n",
    "\n",
    "Легко заметить, что у нас есть повторяющиеся комбинации точек в разной последовательности. Напиример:  \n",
    "[1, 2, 3] -- [3, 2, 1] -- [2, 3, 1] и подобные. Т.е. для точек придется проводить расчёты 3 раза, что серьёзно замедлит алгоритм.\n",
    "\n",
    "Ах да, количество пройденных итераций: 216\n",
    "\n",
    "Проблема ясна, перейдём к решению.\n",
    "\n",
    "Для начало найдём уникальные комбинации точек. Для этого напишем следующий код:\n",
    "\n",
    "```\n",
    "variations = []\n",
    "count = 0\n",
    "\n",
    "for i in range(len(points)):\n",
    "    for j in range(len(points)):\n",
    "        for k in range(len(points)):\n",
    "            box = [points[i], points[j], points[k]]\n",
    "            box.sort()\n",
    "            if box not in variations:\n",
    "                variations.append(box)\n",
    "                count += 1\n",
    "```\n",
    "Количество итераций: 56 - не плохо\n",
    "\n",
    "Получаем следующие комбинации:\n",
    "\n",
    "[1, 1, 1][1, 1, 2][1, 1, 3][1, 1, 4][1, 1, 5][1, 1, 6]  \n",
    "[1, 2, 2][1, 2, 3][1, 2, 4][1, 2, 5][1, 2, 6]  \n",
    "[1, 3, 3][1, 3, 4][1, 3, 5][1, 3, 6]  \n",
    "[1, 4, 4][1, 4, 5][1, 4, 6]  \n",
    "[1, 5, 5][1, 5, 6]  \n",
    "[1, 6, 6]  \n",
    "  \n",
    "[2, 2, 2][2, 2, 3][2, 2, 4][2, 2, 5][2, 2, 6]  \n",
    "[2, 3, 3][2, 3, 4][2, 3, 5][2, 3, 6]  \n",
    "[2, 4, 4][2, 4, 5][2, 4, 6]  \n",
    "[2, 5, 5][2, 5, 6]  \n",
    "[2, 6, 6]  \n",
    "\n",
    "[3, 3, 3][3, 3, 4][3, 3, 5][3, 3, 6]  \n",
    "[3, 4, 4][3, 4, 5][3, 4, 6]  \n",
    "[3, 5, 5][3, 5, 6]  \n",
    "[3, 6, 6]  \n",
    "\n",
    "[4, 4, 4][4, 4, 5][4, 4, 6]  \n",
    "[4, 5, 5][4, 5, 6]  \n",
    "[4, 6, 6]  \n",
    "\n",
    "[5, 5, 5][5, 5, 6]  \n",
    "[5, 6, 6]  \n",
    "\n",
    "[6, 6, 6]  \n",
    "\n",
    "Осталось только увидеть закономерность и да, она есть.\n",
    "\n",
    "Взглянем на выходные данные и заметим, что первая цифра (именно цифра, мы пытаемся увидеть закономерность, асбтрагируемся) начинается с 1 до 6\n",
    "\n",
    "![1 прослеживание закономерности](image/logic_1.png)\n",
    "\n",
    "Вторая цифра начинается со значения предыдущей и заканчивается на 6\n",
    "\n",
    "![2 прослеживание закономерности](image/logic_2.png)\n",
    "\n",
    "Третья же цифра начинается со значения 2 цифры.\n",
    "\n",
    "![3 прослеживание закономерности](image/logic_3.png)\n",
    "\n",
    "Вот и вся закономерность, осталось реализовать её в коде.\n",
    "\n",
    "#### Реализация\n",
    "\n",
    "Собственно код:\n",
    "\n",
    "```\n",
    "variations = []\n",
    "count = 0\n",
    "\n",
    "for i in range(len(points)):\n",
    "    for j in range(i, len(points)):\n",
    "        for k in range(j, len(points)):\n",
    "            box = [points[i], points[j], points[k]]\n",
    "            variations.append(box)\n",
    "            count += 1\n",
    "```\n",
    "\n",
    "Получаем следующие комбинации:\n",
    "\n",
    "[1, 1, 1][1, 1, 2][1, 1, 3][1, 1, 4][1, 1, 5][1, 1, 6]  \n",
    "[1, 2, 2][1, 2, 3][1, 2, 4][1, 2, 5][1, 2, 6]  \n",
    "[1, 3, 3][1, 3, 4][1, 3, 5][1, 3, 6]  \n",
    "[1, 4, 4][1, 4, 5][1, 4, 6]  \n",
    "[1, 5, 5][1, 5, 6]  \n",
    "[1, 6, 6]  \n",
    "[2, 2, 2][2, 2, 3][2, 2, 4][2, 2, 5][2, 2, 6]  \n",
    "[2, 3, 3][2, 3, 4][2, 3, 5][2, 3, 6]  \n",
    "[2, 4, 4][2, 4, 5][2, 4, 6]  \n",
    "[2, 5, 5][2, 5, 6]  \n",
    "[2, 6, 6]  \n",
    "[3, 3, 3][3, 3, 4][3, 3, 5][3, 3, 6]  \n",
    "[3, 4, 4][3, 4, 5][3, 4, 6]  \n",
    "[3, 5, 5][3, 5, 6]  \n",
    "[3, 6, 6]  \n",
    "[4, 4, 4][4, 4, 5][4, 4, 6]  \n",
    "[4, 5, 5][4, 5, 6]  \n",
    "[4, 6, 6]  \n",
    "[5, 5, 5][5, 5, 6]  \n",
    "[5, 6, 6]  \n",
    "[6, 6, 6]  \n",
    "\n",
    "Количество итераций: 56\n",
    "\n",
    "---\n",
    "Перейдём к написанию кода."
   ]
  },
  {
   "cell_type": "code",
   "execution_count": 7,
   "id": "94fdcd8c",
   "metadata": {},
   "outputs": [],
   "source": [
    "def triangle(points: List[Point]) -> tuple[int, tuple[int, int, int], int, tuple[int, int, int]]:\n",
    "    eps = 1e-10\n",
    "    min_area = 0\n",
    "    max_area = 0\n",
    "    index_points_min_area = ()\n",
    "    index_points_max_area = ()\n",
    "\n",
    "    for a in range(len(points)):\n",
    "        for b in range(a, len(points)):\n",
    "            vector_a = vector_coordinates(points[a], points[b])\n",
    "            for c in range(b, len(points)):\n",
    "                vector_b = vector_coordinates(points[b], points[c])\n",
    "                area = area_triangle(vector_a, vector_b)\n",
    "\n",
    "                if area > max_area:\n",
    "                    max_area = area\n",
    "                    index_points_max_area = (a, b, c)\n",
    "\n",
    "                if area > eps and (min_area - area > eps or min_area < eps):\n",
    "                    min_area = area\n",
    "                    index_points_min_area = (a, b, c)\n",
    "\n",
    "    return min_area, index_points_min_area, max_area, index_points_max_area"
   ]
  },
  {
   "cell_type": "markdown",
   "id": "cd0b3d6d",
   "metadata": {},
   "source": [
    "### Демонстрация работы алгоритма"
   ]
  },
  {
   "cell_type": "markdown",
   "id": "2f30f76b",
   "metadata": {},
   "source": [
    "При помощи функции display() из библиотеке IPython отобразим ползунки, которые зададут количество точек и диапазон"
   ]
  },
  {
   "cell_type": "code",
   "execution_count": 8,
   "id": "b8695392",
   "metadata": {
    "scrolled": false
   },
   "outputs": [
    {
     "data": {
      "application/vnd.jupyter.widget-view+json": {
       "model_id": "24473d67f97f4cd7999946316d7792bf",
       "version_major": 2,
       "version_minor": 0
      },
      "text/plain": [
       "IntSlider(value=100, continuous_update=False, description='Points:', max=500)"
      ]
     },
     "metadata": {},
     "output_type": "display_data"
    },
    {
     "data": {
      "application/vnd.jupyter.widget-view+json": {
       "model_id": "d807ea35ccff4345af084ed80f380a2a",
       "version_major": 2,
       "version_minor": 0
      },
      "text/plain": [
       "IntSlider(value=-100, continuous_update=False, description='Of:', max=0, min=-500)"
      ]
     },
     "metadata": {},
     "output_type": "display_data"
    },
    {
     "data": {
      "application/vnd.jupyter.widget-view+json": {
       "model_id": "35f95f23b3d440898327b79bdbc85aee",
       "version_major": 2,
       "version_minor": 0
      },
      "text/plain": [
       "IntSlider(value=100, continuous_update=False, description='To:', max=500)"
      ]
     },
     "metadata": {},
     "output_type": "display_data"
    }
   ],
   "source": [
    "display(slider_points)\n",
    "display(slider_of)\n",
    "display(slider_to)"
   ]
  },
  {
   "cell_type": "markdown",
   "id": "cefc3fa4",
   "metadata": {},
   "source": [
    "Создадим точки на плоскости, при помощи функции для генерации точек, в параметры которой передадим значения ползунков"
   ]
  },
  {
   "cell_type": "code",
   "execution_count": 9,
   "id": "6cae4909",
   "metadata": {
    "scrolled": true
   },
   "outputs": [],
   "source": [
    "points = generate_point(count=300, of=-10, to=10)"
   ]
  },
  {
   "cell_type": "markdown",
   "id": "e5036821",
   "metadata": {},
   "source": [
    "Воспользуемся функцией для нахождения площади треугольника"
   ]
  },
  {
   "cell_type": "code",
   "execution_count": 10,
   "id": "a87e0875",
   "metadata": {},
   "outputs": [],
   "source": [
    "min_area, index_points_min_area, max_area, index_points_max_area = triangle(points)"
   ]
  },
  {
   "cell_type": "markdown",
   "id": "0dfa51d9",
   "metadata": {},
   "source": [
    "#### Площадь наименьшего треугольника равна и его координаты:"
   ]
  },
  {
   "cell_type": "code",
   "execution_count": 11,
   "id": "93ab8bba",
   "metadata": {},
   "outputs": [
    {
     "data": {
      "text/plain": [
       "0.5"
      ]
     },
     "execution_count": 11,
     "metadata": {},
     "output_type": "execute_result"
    }
   ],
   "source": [
    "min_area"
   ]
  },
  {
   "cell_type": "code",
   "execution_count": 12,
   "id": "afcc030b",
   "metadata": {
    "scrolled": true
   },
   "outputs": [
    {
     "name": "stdout",
     "output_type": "stream",
     "text": [
      "(-9, -3)\n",
      "(2, 6)\n",
      "(-3, 2)\n"
     ]
    }
   ],
   "source": [
    "print(f\"{points[index_points_min_area[0]].x, points[index_points_min_area[0]].y}\\n\"\n",
    "      f\"{points[index_points_min_area[1]].x, points[index_points_min_area[1]].y}\\n\"\n",
    "      f\"{points[index_points_min_area[2]].x, points[index_points_min_area[2]].y}\")"
   ]
  },
  {
   "cell_type": "markdown",
   "id": "c881c131",
   "metadata": {},
   "source": [
    "#### Площадь наибольшего треугольника равна и его координаты:"
   ]
  },
  {
   "cell_type": "code",
   "execution_count": 13,
   "id": "d20f4294",
   "metadata": {},
   "outputs": [
    {
     "data": {
      "text/plain": [
       "170.0"
      ]
     },
     "execution_count": 13,
     "metadata": {},
     "output_type": "execute_result"
    }
   ],
   "source": [
    "max_area"
   ]
  },
  {
   "cell_type": "code",
   "execution_count": 14,
   "id": "3bacc8fb",
   "metadata": {
    "scrolled": false
   },
   "outputs": [
    {
     "name": "stdout",
     "output_type": "stream",
     "text": [
      "(-10, 8)\n",
      "(-8, -10)\n",
      "(9, 7)\n"
     ]
    }
   ],
   "source": [
    "print(f\"{points[index_points_max_area[0]].x, points[index_points_max_area[0]].y}\\n\"\n",
    "      f\"{points[index_points_max_area[1]].x, points[index_points_max_area[1]].y}\\n\"\n",
    "      f\"{points[index_points_max_area[2]].x, points[index_points_max_area[2]].y}\")"
   ]
  },
  {
   "cell_type": "markdown",
   "id": "fc2d9858",
   "metadata": {},
   "source": [
    "#### Запишем координаты по X и Y в отдельные переменные, чтобы вывести графики"
   ]
  },
  {
   "cell_type": "code",
   "execution_count": 15,
   "id": "b63123a6",
   "metadata": {},
   "outputs": [],
   "source": [
    "coords_x_min = [points[index_points_min_area[i]].x for i in range(3)]\n",
    "coords_y_min = [points[index_points_min_area[i]].y for i in range(3)]\n",
    "coords_x_min.append(points[index_points_min_area[0]].x)\n",
    "coords_y_min.append(points[index_points_min_area[0]].y)\n",
    "\n",
    "coords_x_max = [points[index_points_max_area[i]].x for i in range(3)]\n",
    "coords_y_max = [points[index_points_max_area[i]].y for i in range(3)]\n",
    "coords_x_max.append(points[index_points_max_area[0]].x)\n",
    "coords_y_max.append(points[index_points_max_area[0]].y)"
   ]
  },
  {
   "cell_type": "markdown",
   "id": "aac67ec5",
   "metadata": {},
   "source": [
    "#### Выведем графики с использованием записанных ранее координат"
   ]
  },
  {
   "cell_type": "code",
   "execution_count": 16,
   "id": "4595f28b",
   "metadata": {
    "scrolled": true
   },
   "outputs": [
    {
     "data": {
      "text/plain": [
       "<matplotlib.legend.Legend at 0x1748e9a2a60>"
      ]
     },
     "execution_count": 16,
     "metadata": {},
     "output_type": "execute_result"
    },
    {
     "data": {
      "image/png": "[encoded data removed]",
      "text/plain": [
       "<Figure size 288x288 with 1 Axes>"
      ]
     },
     "metadata": {
      "needs_background": "light"
     },
     "output_type": "display_data"
    }
   ],
   "source": [
    "# Построение графика\n",
    "plt.figure(figsize=(4,4))\n",
    "plt.title(\"Наименьший треугольник\") # заголовок\n",
    "plt.xlabel(\"x\") # ось абсцисс\n",
    "plt.ylabel(\"y\") # ось ординат\n",
    "plt.grid()      # включение отображение сетки\n",
    "plt.plot(coords_x_min, coords_y_min, coords_x_max, coords_y_max, marker=\"o\")  # построение графика\n",
    "plt.legend(['min', 'max'], loc=2, title='Треугольник') # Добавление легенды"
   ]
  },
  {
   "cell_type": "markdown",
   "id": "67687d1b",
   "metadata": {},
   "source": [
    "## С треугольником разобрались, теперь приступим к квадрату\n",
    "----------------------------------"
   ]
  },
  {
   "cell_type": "markdown",
   "id": "162181fa",
   "metadata": {},
   "source": [
    "#### Функция для вычисление векторного произведения\n",
    "\n",
    "Функция принимает в параметрах два вектора\n",
    "\n",
    "Возвращает векторное произведение"
   ]
  },
  {
   "cell_type": "code",
   "execution_count": 17,
   "id": "5d4bb44f",
   "metadata": {},
   "outputs": [],
   "source": [
    "def composition_vector(point_a: Point, point_b: Point):\n",
    "    return point_a.x * point_b.y - point_a.y * point_b.x"
   ]
  },
  {
   "cell_type": "markdown",
   "id": "83177ce3",
   "metadata": {},
   "source": [
    "#### Функция для вычисления площади квадрата"
   ]
  },
  {
   "cell_type": "code",
   "execution_count": 18,
   "id": "8e50835e",
   "metadata": {},
   "outputs": [],
   "source": [
    "def area_square(point_a: Point, point_b: Point, point_c: Point, point_d: Point):\n",
    "    return sum((composition_vector(point_a, point_b),\n",
    "                composition_vector(point_b, point_c),\n",
    "                composition_vector(point_c, point_d),\n",
    "                composition_vector(point_d, point_a))) / 2"
   ]
  },
  {
   "cell_type": "markdown",
   "id": "f5814634",
   "metadata": {},
   "source": [
    "#### Основная функция для нахождения максимальной и минимальной площадей квадратов, которая также вернёт координаты найденных квадратов с максимальной и минимальной площадью\n",
    "\n",
    "Перед тем как перейти к написанию алгоритма, необходимо разобраться, что он будет делать.\n",
    "\n",
    "Идея, по сути такая же как и у треугольника: взять 4 точки из списка, найти векторы и расчитать площадь по формуле.\n",
    "\n",
    "Для взятия 4-х точек из списка воспользуемся циклами. Алгоритм по которому будет перебираться список нам известен.\n",
    "\n",
    "#### Проблема\n",
    "\n",
    "Но как же определять, что 4 точки образуют квадрат? \n",
    "\n",
    "#### Решение\n",
    "\n",
    "В интернете удалось найти следующие формулы\n",
    "\n",
    "![Формулы для определения координат квадрата по двум известным](image/coordinates_square.JPG)\n",
    "\n",
    "Сначала нам необходимо найти координаты середины между точек A и C, что позволит найти точки B и D.\n",
    "\n",
    "Давайте попробуем отразить это в коде."
   ]
  },
  {
   "cell_type": "code",
   "execution_count": 19,
   "id": "fb3b193c",
   "metadata": {},
   "outputs": [],
   "source": [
    "def square(points):\n",
    "    eps = 1e-10\n",
    "    min_area = 0\n",
    "    max_area = 0\n",
    "    index_points_min_area = ()\n",
    "    index_points_max_area = ()\n",
    "\n",
    "    for a in range(len(points)):\n",
    "        for b in range(a, len(points)):\n",
    "            for c in range(b, len(points)):\n",
    "                x_m = (points[a].x + points[c].x) / 2\n",
    "                y_m = (points[a].y + points[c].y) / 2\n",
    "                x_b = x_m + y_m - points[a].y\n",
    "                y_b = y_m - x_m + points[a].x\n",
    "                if points[b].x == x_b and points[b].y == y_b:\n",
    "                    for d in range(c, len(points)):\n",
    "                        x_d = x_m - y_m + points[a].y\n",
    "                        y_d = y_m + x_m - points[a].x\n",
    "                        if points[d].x == x_d and points[d].y == y_d:\n",
    "                            # Находим площадь\n",
    "                            area = area_square(points[a], points[b], points[c], points[d])\n",
    "                            # Сравниваем с максимальной\n",
    "                            if area > max_area:\n",
    "                                max_area = area\n",
    "                                index_points_max_area = (a, b, c, d)\n",
    "                            # min_area < eps --> Условие задаёт первое значение отличное от 0\n",
    "                            # area > eps --> Условие чтобы min_area не обратилось в 0\n",
    "                            # min_area - area > eps --> Условие отбора минимальной площади\n",
    "                            if area > eps and (min_area - area > eps or min_area < eps):\n",
    "                                min_area = area\n",
    "                                index_points_min_area = (a, b, c, d)\n",
    "\n",
    "    return min_area, index_points_min_area, max_area, index_points_max_area"
   ]
  },
  {
   "cell_type": "markdown",
   "id": "f0e7edfe",
   "metadata": {},
   "source": [
    "### Демонстрация работы алгоритма"
   ]
  },
  {
   "cell_type": "markdown",
   "id": "bf44e942",
   "metadata": {},
   "source": [
    "Воспользуемся функцией для нахождения максимальной и минимальной площадей квадрата"
   ]
  },
  {
   "cell_type": "code",
   "execution_count": 20,
   "id": "ffa7da3c",
   "metadata": {
    "scrolled": false
   },
   "outputs": [],
   "source": [
    "min_area, coords_min_area, max_area, coords_max_area = square(points)"
   ]
  },
  {
   "cell_type": "code",
   "execution_count": 21,
   "id": "0719f6a3",
   "metadata": {
    "scrolled": true
   },
   "outputs": [
    {
     "name": "stdout",
     "output_type": "stream",
     "text": [
      "Площадь наибольшего квадрата равна: 260.0\n",
      "Его координаты: (6, -9), (8, 7), (-8, 9), (-10, -7)\n",
      "Площадь наименьшего квадрата равна: 1.0\n",
      "Его координаты: (2, 6), (1, 6), (1, 5), (2, 5)\n"
     ]
    }
   ],
   "source": [
    "if min_area == 0 and max_area == 0:\n",
    "    print(\"Квадрат не найден\")\n",
    "else:\n",
    "    print(f\"Площадь наибольшего квадрата равна: {max_area}\")\n",
    "    print(f\"Его координаты:\"\n",
    "          f\" {points[coords_max_area[0]].x, points[coords_max_area[0]].y},\"\n",
    "          f\" {points[coords_max_area[1]].x, points[coords_max_area[1]].y},\"\n",
    "          f\" {points[coords_max_area[2]].x, points[coords_max_area[2]].y},\"\n",
    "          f\" {points[coords_max_area[3]].x, points[coords_max_area[3]].y}\")\n",
    "    print(f\"Площадь наименьшего квадрата равна: {min_area}\")\n",
    "    print(f\"Его координаты:\"\n",
    "          f\" {points[coords_min_area[0]].x, points[coords_min_area[0]].y},\"\n",
    "          f\" {points[coords_min_area[1]].x, points[coords_min_area[1]].y},\"\n",
    "          f\" {points[coords_min_area[2]].x, points[coords_min_area[2]].y},\"\n",
    "          f\" {points[coords_min_area[3]].x, points[coords_min_area[3]].y}\")\n",
    "    \n",
    "    # Запишем координаты по X и Y в отдельные переменные, чтобы вывести графики\n",
    "    coords_x_min = [points[coords_min_area[i]].x for i in range(4)]\n",
    "    coords_y_min = [points[coords_min_area[i]].y for i in range(4)]\n",
    "    coords_x_min.append(points[coords_min_area[0]].x)\n",
    "    coords_y_min.append(points[coords_min_area[0]].y)\n",
    "    \n",
    "    coords_x_max = [points[coords_max_area[i]].x for i in range(4)]\n",
    "    coords_y_max = [points[coords_max_area[i]].y for i in range(4)]\n",
    "    coords_x_max.append(points[coords_max_area[0]].x)\n",
    "    coords_y_max.append(points[coords_max_area[0]].y)"
   ]
  },
  {
   "cell_type": "markdown",
   "id": "8622ded3",
   "metadata": {},
   "source": [
    "#### Выведем графики с использованием записанных ранее координат"
   ]
  },
  {
   "cell_type": "code",
   "execution_count": 22,
   "id": "1a756c5d",
   "metadata": {},
   "outputs": [
    {
     "data": {
      "text/plain": [
       "<matplotlib.legend.Legend at 0x17490afceb0>"
      ]
     },
     "execution_count": 22,
     "metadata": {},
     "output_type": "execute_result"
    },
    {
     "data": {
      "image/png": "[encoded data removed]",
      "text/plain": [
       "<Figure size 288x288 with 1 Axes>"
      ]
     },
     "metadata": {
      "needs_background": "light"
     },
     "output_type": "display_data"
    }
   ],
   "source": [
    "# Построение графика\n",
    "plt.figure(figsize=(4,4))\n",
    "plt.title(\"Квадрат\") # заголовок\n",
    "plt.xlabel(\"x\") # ось абсцисс\n",
    "plt.ylabel(\"y\") # ось ординат\n",
    "plt.grid()      # включение отображение сетки\n",
    "plt.plot(coords_x_min, coords_y_min, coords_x_max, coords_y_max, marker=\"o\")  # построение графика\n",
    "plt.legend(['min', 'max'], loc=2, title='Квадрат')"
   ]
  },
  {
   "cell_type": "code",
   "execution_count": null,
   "id": "d671ce91",
   "metadata": {},
   "outputs": [],
   "source": []
  }
 ],
 "metadata": {
  "kernelspec": {
   "display_name": "Python 3 (ipykernel)",
   "language": "python",
   "name": "python3"
  },
  "language_info": {
   "codemirror_mode": {
    "name": "ipython",
    "version": 3
   },
   "file_extension": ".py",
   "mimetype": "text/x-python",
   "name": "python",
   "nbconvert_exporter": "python",
   "pygments_lexer": "ipython3",
   "version": "3.9.7"
  }
 },
 "nbformat": 4,
 "nbformat_minor": 5
}
