{
 "cells": [
  {
   "cell_type": "markdown",
   "id": "0973947b",
   "metadata": {},
   "source": [
    "# Вычисление площадей минимального и максимального треугольника (квадрата) на множестве точек плоскости #\n",
    "-------------------------------------------------------------------------------------------------"
   ]
  },
  {
   "cell_type": "markdown",
   "id": "47ada93f",
   "metadata": {},
   "source": [
    "Импортируем необходимые библиотеки для проекта"
   ]
  },
  {
   "cell_type": "code",
   "execution_count": 1,
   "id": "4c7a0025",
   "metadata": {},
   "outputs": [],
   "source": [
    "from random import randrange\n",
    "from typing import List\n",
    "import math\n",
    "import matplotlib.pyplot as plt\n",
    "\n",
    "%matplotlib inline"
   ]
  },
  {
   "cell_type": "markdown",
   "id": "135fe3b1",
   "metadata": {},
   "source": [
    "Создадим класс точка"
   ]
  },
  {
   "cell_type": "code",
   "execution_count": 2,
   "id": "628f865e",
   "metadata": {},
   "outputs": [],
   "source": [
    "class Point:\n",
    "    def __init__(self, x: float, y: float):\n",
    "        self.x = x\n",
    "        self.y = y"
   ]
  },
  {
   "cell_type": "markdown",
   "id": "eccbcc73",
   "metadata": {},
   "source": [
    "Функция для генерации точек на плоскости"
   ]
  },
  {
   "cell_type": "code",
   "execution_count": 3,
   "id": "e0eb1b8e",
   "metadata": {},
   "outputs": [],
   "source": [
    "def generate_point(count: int) -> List[Point]:\n",
    "    points: List[Point] = []\n",
    "    for i in range(count):\n",
    "        points.append(Point(randrange(0, 5), randrange(0, 5)))\n",
    "    return points"
   ]
  },
  {
   "cell_type": "markdown",
   "id": "75d27a4e",
   "metadata": {},
   "source": [
    "## Итак, начнём с треугольника\n",
    "------------------------"
   ]
  },
  {
   "cell_type": "markdown",
   "id": "68f85956",
   "metadata": {},
   "source": [
    "### Как найти площадь треугольника по координатам его вершин?\n",
    "\n",
    "\n",
    "Способ 1. Найти длины трёх сторон треугольника и вычислить площадь по формуле Герона. Способ удобен, если длины сторон являются целыми числами. В противном случае предстоят громоздкие вычисления.\n",
    "\n",
    "Способ 2. Вывести формулу для нахождения площади и использовать её для вычисления.\n",
    "\n",
    "*Утверждение*\n",
    "\n",
    "*Площадь треугольника ABC с вершинами в точках A(x1;y1), B(x2;y2), C(x3;y3) можно вычислить с помощью формулы*\n",
    "\n",
    "![Формула площади треугольника](image/1.png)\n",
    "\n",
    "**Доказательство:**\n",
    "\n",
    "Рассмотрим треугольник ABC, с вершинами A(x1;y1), B(x2;y2), C(x3;y3)\n",
    "\n",
    "![Треугольник](image/triangle.png)\n",
    "\n",
    "Опустим перпендикуляры из вершин треугольника на координатные оси.\n",
    "\n",
    "![Треугольник](image/proof_1.png)\n",
    "![Треугольник](image/proof_2.png)\n",
    "![Треугольник](image/proof_3.png)\n",
    "![Треугольник](image/proof_4.png)\n",
    "![Треугольник](image/proof_5.png)\n",
    "![Треугольник](image/proof_6.png)\n",
    "![Треугольник](image/proof_7.png)\n",
    "![Треугольник](image/proof_8.png)\n",
    "![Треугольник](image/proof_9.png)\n",
    "![Треугольник](image/proof_10.png)\n",
    "![Треугольник](image/proof_11.png)\n",
    "![Треугольник](image/proof_12.png)\n",
    "![Треугольник](image/proof_13.png)\n",
    "\n",
    "С учетом вариантов взаимного расположения точек A, B и C формула для вычисления площади треугольника по координатам его вершин приобретает вид:\n",
    "\n",
    "![Формула площади треугольника](image/1.png)\n",
    "\n",
    "Что и требовалось доказать."
   ]
  },
  {
   "cell_type": "markdown",
   "id": "d9647aba",
   "metadata": {},
   "source": [
    "#### Функция для нахождения максимальной и минимальной площади треугольника, также вернёт координаты треугольников"
   ]
  },
  {
   "cell_type": "code",
   "execution_count": 4,
   "id": "94fdcd8c",
   "metadata": {},
   "outputs": [],
   "source": [
    "def calculating_area_triangle(points: List[Point]) -> tuple[int, tuple[int, int, int], int, tuple[int, int, int]]:\n",
    "    eps = 1e-10\n",
    "    min_area = 0\n",
    "    max_area = 0\n",
    "    coords_min_area = ()\n",
    "    coords_max_area = ()\n",
    "\n",
    "    for i in range(len(points)):\n",
    "        for j in range(i + 1, len(points)):\n",
    "            vectors_x1 = points[j].x - points[i].x\n",
    "            vectors_y1 = points[j].y - points[i].y\n",
    "            for k in range(i + 2, len(points)):\n",
    "                vectors_x2 = points[k].x - points[i].x\n",
    "                vectors_y2 = points[k].y - points[i].y\n",
    "                area = abs(vectors_x1 * vectors_y2 - vectors_x2 * vectors_y1)\n",
    "\n",
    "                if area > max_area:\n",
    "                    max_area = area\n",
    "                    coords_max_area = (i, j, k)\n",
    "\n",
    "                if area > eps and (min_area - area > eps or min_area < eps):\n",
    "                    min_area = area\n",
    "                    coords_min_area = (i, j, k)\n",
    "\n",
    "    return min_area, coords_min_area, max_area, coords_max_area"
   ]
  },
  {
   "cell_type": "markdown",
   "id": "cd0b3d6d",
   "metadata": {},
   "source": [
    "### Демонстрация работы алгоритма"
   ]
  },
  {
   "cell_type": "markdown",
   "id": "cefc3fa4",
   "metadata": {},
   "source": [
    "Для начала создадим n-ое количество точек на плоскости"
   ]
  },
  {
   "cell_type": "code",
   "execution_count": 5,
   "id": "6cae4909",
   "metadata": {},
   "outputs": [],
   "source": [
    "points = generate_point(count=10)"
   ]
  },
  {
   "cell_type": "markdown",
   "id": "e5036821",
   "metadata": {},
   "source": [
    "Воспользуемся функцией для нахождения площади треугоника"
   ]
  },
  {
   "cell_type": "code",
   "execution_count": 6,
   "id": "a87e0875",
   "metadata": {},
   "outputs": [],
   "source": [
    "min_area, coords_min_area, max_area, coords_max_area = calculating_area_triangle(points)"
   ]
  },
  {
   "cell_type": "markdown",
   "id": "fc2d9858",
   "metadata": {},
   "source": [
    "#### Запишем координаты по X и Y в отдельные переменные, чтобы вывести графики"
   ]
  },
  {
   "cell_type": "code",
   "execution_count": 7,
   "id": "b63123a6",
   "metadata": {},
   "outputs": [],
   "source": [
    "coords_x_min = [points[coords_min_area[i]].x for i in range(3)]\n",
    "coords_y_min = [points[coords_min_area[i]].y for i in range(3)]\n",
    "coords_x_min.append(points[coords_min_area[0]].x)\n",
    "coords_y_min.append(points[coords_min_area[0]].y)"
   ]
  },
  {
   "cell_type": "code",
   "execution_count": 8,
   "id": "6765eb2f",
   "metadata": {},
   "outputs": [],
   "source": [
    "coords_x_max = [points[coords_max_area[i]].x for i in range(3)]\n",
    "coords_y_max = [points[coords_max_area[i]].y for i in range(3)]\n",
    "coords_x_max.append(points[coords_max_area[0]].x)\n",
    "coords_y_max.append(points[coords_max_area[0]].y)"
   ]
  },
  {
   "cell_type": "markdown",
   "id": "0dfa51d9",
   "metadata": {},
   "source": [
    "#### Площадь наименьшего треугольника равна и его координаты:"
   ]
  },
  {
   "cell_type": "code",
   "execution_count": 9,
   "id": "93ab8bba",
   "metadata": {},
   "outputs": [
    {
     "data": {
      "text/plain": [
       "1"
      ]
     },
     "execution_count": 9,
     "metadata": {},
     "output_type": "execute_result"
    }
   ],
   "source": [
    "min_area"
   ]
  },
  {
   "cell_type": "code",
   "execution_count": 10,
   "id": "afcc030b",
   "metadata": {
    "scrolled": true
   },
   "outputs": [
    {
     "name": "stdout",
     "output_type": "stream",
     "text": [
      "(1, 4)\n",
      "(2, 4)\n",
      "(0, 3)\n"
     ]
    }
   ],
   "source": [
    "print(f\"{points[coords_min_area[0]].x, points[coords_min_area[0]].y}\\n\"\n",
    "      f\"{points[coords_min_area[1]].x, points[coords_min_area[1]].y}\\n\"\n",
    "      f\"{points[coords_min_area[2]].x, points[coords_min_area[2]].y}\")"
   ]
  },
  {
   "cell_type": "markdown",
   "id": "c881c131",
   "metadata": {},
   "source": [
    "#### Площадь наибольшего треугольника равна и его координаты:"
   ]
  },
  {
   "cell_type": "code",
   "execution_count": 11,
   "id": "d20f4294",
   "metadata": {},
   "outputs": [
    {
     "data": {
      "text/plain": [
       "14"
      ]
     },
     "execution_count": 11,
     "metadata": {},
     "output_type": "execute_result"
    }
   ],
   "source": [
    "max_area"
   ]
  },
  {
   "cell_type": "code",
   "execution_count": 12,
   "id": "3bacc8fb",
   "metadata": {
    "scrolled": false
   },
   "outputs": [
    {
     "name": "stdout",
     "output_type": "stream",
     "text": [
      "(1, 4)\n",
      "(4, 2)\n",
      "(0, 0)\n"
     ]
    }
   ],
   "source": [
    "print(f\"{points[coords_max_area[0]].x, points[coords_max_area[0]].y}\\n\"\n",
    "      f\"{points[coords_max_area[1]].x, points[coords_max_area[1]].y}\\n\"\n",
    "      f\"{points[coords_max_area[2]].x, points[coords_max_area[2]].y}\")"
   ]
  },
  {
   "cell_type": "markdown",
   "id": "aac67ec5",
   "metadata": {},
   "source": [
    "#### Выведем графики с использованием записанных ранее координат"
   ]
  },
  {
   "cell_type": "code",
   "execution_count": 13,
   "id": "4595f28b",
   "metadata": {
    "scrolled": true
   },
   "outputs": [
    {
     "data": {
      "text/plain": [
       "<matplotlib.legend.Legend at 0x191a74d91c0>"
      ]
     },
     "execution_count": 13,
     "metadata": {},
     "output_type": "execute_result"
    },
    {
     "data": {
      "image/png": "[encoded data removed]",
      "text/plain": [
       "<Figure size 288x288 with 1 Axes>"
      ]
     },
     "metadata": {
      "needs_background": "light"
     },
     "output_type": "display_data"
    }
   ],
   "source": [
    "# Построение графика\n",
    "plt.figure(figsize=(4,4))\n",
    "plt.title(\"Наименьший треугольник\") # заголовок\n",
    "plt.xlabel(\"x\") # ось абсцисс\n",
    "plt.ylabel(\"y\") # ось ординат\n",
    "plt.grid()      # включение отображение сетки\n",
    "plt.plot(coords_x_min, coords_y_min, coords_x_max, coords_y_max, marker=\"o\")  # построение графика\n",
    "plt.legend(['min', 'max'], loc=2, title='Треугольник')"
   ]
  },
  {
   "cell_type": "markdown",
   "id": "67687d1b",
   "metadata": {},
   "source": [
    "## С треугольником разобрались, теперь приступим к квадрату\n",
    "----------------------------------"
   ]
  },
  {
   "cell_type": "markdown",
   "id": "aa0eff12",
   "metadata": {},
   "source": [
    "### Как найти площадь квадрата по координатам его вершин?\n",
    "\n",
    "**Будем выводить формулу**\n",
    "\n",
    "Для вывода формулы площади многоугольника нам понадобятся сведения из вычислительной геометрии, а именно, понятие ориентированной площади треугольника.\n",
    "\n",
    "Ориентированная площадь треугольника – это обычная площадь, снабженная знаком. Знак ориентированной площади треугольника АВС такой же, как у ориентированного угла между векторами AB и AC. То есть ее знак зависит от порядка перечисления вершин.\n",
    "\n",
    "![Визуализация векторов](image/2.png)\n",
    "\n",
    "На рис.1 треугольник АВС – прямоугольный. Его ориентированная площадь равна ![Визуализация векторов](image/3.gif)\n",
    "(она больше нуля, так как пара OB, OC. Площадь многоугольника ориентирована положительно).  Эту же величину можно вычислить другим способом.\n",
    "\n",
    "Пусть О – произвольная точка плоскости. На рисунке площадь треугольника ABC получится, если из площади треугольника OBC вычесть площади OAB и OCA. Таким образом, нужно просто сложить ориентированные площади треугольников OAB, OBC и OCA. Это правило работает при любом выборе точки О.\n",
    "\n",
    "Точно так же для вычисления площади любого многоугольника ![Точки](image/4.gif)\n",
    "нужно сложить ориентированные площади треугольников ![Точки](image/5.gif)\n",
    "![Точки](image/3.png)\n",
    "\n",
    "В сумме получится площадь многоугольника, взятая со знаком плюс, если при обходе ломаной ![Точки](image/4.gif)\n",
    "многоугольника находится слева (обход границы против часовой стрелки), и со знаком минус, если он находится справа (обход по часовой стрелке).\n",
    "\n",
    "Итак, вычисление площади многоугольника свелось к нахождению площади треугольника. Посмотрим, как выразить ее в координатах.\n",
    "\n",
    "Векторное произведение двух векторов на плоскости есть площадь параллелограмма, построенного на этих векторах.\n",
    "\n",
    "![Точки](image/4.png)\n",
    "\n",
    "Векторное произведение, выраженное через координаты векторов:\n",
    "\n",
    "![Точки](image/6.gif)\n",
    "\n",
    "Площадь треугольника будет равна половине этой площади:\n",
    "\n",
    "![Точки](image/7.gif)\n",
    "\n",
    "В качестве точки О удобно взять начало координат, тогда координаты векторов, на основании которых вычисляются ориентированные площади, совпадут с координатами точек.\n",
    "\n",
    "Пусть (х1, y1), (x2, у2), …, (хN,уN) —координаты вершин заданного многоугольника в порядке обхода по или против часовой стрелки. Тогда его ориентированная площадь S будет равна:\n",
    "\n",
    "![Точки](image/5.png)\n",
    "\n",
    "Это и есть наша рабочая формула, она используется в нашей программе."
   ]
  },
  {
   "cell_type": "markdown",
   "id": "162181fa",
   "metadata": {},
   "source": [
    "#### Функция для вычисление векторного произведения"
   ]
  },
  {
   "cell_type": "code",
   "execution_count": 14,
   "id": "5d4bb44f",
   "metadata": {},
   "outputs": [],
   "source": [
    "def composition_vector(point_a: Point, point_b: Point):\n",
    "    return point_a.x * point_b.y - point_a.y * point_b.x"
   ]
  },
  {
   "cell_type": "markdown",
   "id": "c4fb31b2",
   "metadata": {},
   "source": [
    "#### Функция для вычисление координат вектора"
   ]
  },
  {
   "cell_type": "code",
   "execution_count": 15,
   "id": "948fed7e",
   "metadata": {},
   "outputs": [],
   "source": [
    "def calc_vector_coordinates(point_b: Point, point_a: Point):\n",
    "    return point_b.x - point_a.x, point_b.y - point_a.y"
   ]
  },
  {
   "cell_type": "markdown",
   "id": "83177ce3",
   "metadata": {},
   "source": [
    "#### Функция для вычисления площади квадрата"
   ]
  },
  {
   "cell_type": "code",
   "execution_count": 16,
   "id": "8e50835e",
   "metadata": {},
   "outputs": [],
   "source": [
    "def calculation_area(point_a: Point, point_b: Point, point_c: Point, point_d: Point):\n",
    "    return sum((composition_vector(point_a, point_b),\n",
    "                composition_vector(point_b, point_c),\n",
    "                composition_vector(point_c, point_d),\n",
    "                composition_vector(point_d, point_a))) / 2"
   ]
  },
  {
   "cell_type": "markdown",
   "id": "f5814634",
   "metadata": {},
   "source": [
    "#### Функция для нахождения максимальной и минимальной площадей квадрата, также вернёт координаты треугольников"
   ]
  },
  {
   "cell_type": "code",
   "execution_count": 17,
   "id": "fb3b193c",
   "metadata": {},
   "outputs": [],
   "source": [
    "def square(points):\n",
    "    eps = 1e-10\n",
    "    min_area = 0\n",
    "    max_area = 0\n",
    "    coords_min_area = ()\n",
    "    coords_max_area = ()\n",
    "\n",
    "    for a in range(len(points)):\n",
    "        for b in range(len(points)):\n",
    "            if b != a:\n",
    "                for c in range(len(points)):\n",
    "                    if c != a and c != b:\n",
    "                        vector_a = calc_vector_coordinates(points[b], points[a])\n",
    "                        vector_b = calc_vector_coordinates(points[c], points[b])\n",
    "                        if vector_a[0] == vector_b[1] and abs(vector_a[1]) == vector_b[0]:\n",
    "                            for d in range(len(points)):\n",
    "                                vector_c = calc_vector_coordinates(points[d], points[c])\n",
    "                                if abs(vector_a[0]) == vector_c[0] and abs(vector_a[1]) == vector_c[1]:\n",
    "                                    area = calculation_area(points[a], points[b], points[c], points[d])\n",
    "\n",
    "                                    if area > max_area:\n",
    "                                        max_area = area\n",
    "                                        coords_max_area = (a, b, c, d)\n",
    "\n",
    "                                    if area > eps and (min_area - area > eps or min_area < eps):\n",
    "                                        min_area = area\n",
    "                                        coords_min_area = (a, b, c, d)\n",
    "\n",
    "    return min_area, coords_min_area, max_area, coords_max_area"
   ]
  },
  {
   "cell_type": "markdown",
   "id": "f0e7edfe",
   "metadata": {},
   "source": [
    "### Демонстрация работы алгоритма"
   ]
  },
  {
   "cell_type": "markdown",
   "id": "56cc78b5",
   "metadata": {},
   "source": [
    "Для начала создадим n-ое количество точек на плоскости"
   ]
  },
  {
   "cell_type": "code",
   "execution_count": 18,
   "id": "9ed4c3af",
   "metadata": {},
   "outputs": [],
   "source": [
    "points = generate_point(count=100)"
   ]
  },
  {
   "cell_type": "markdown",
   "id": "bf44e942",
   "metadata": {},
   "source": [
    "Воспользуемся функцией для нахождения максимальной и минимальной площадей квадрата"
   ]
  },
  {
   "cell_type": "code",
   "execution_count": 19,
   "id": "ffa7da3c",
   "metadata": {
    "scrolled": false
   },
   "outputs": [],
   "source": [
    "min_area, coords_min_area, max_area, coords_max_area = square(points)"
   ]
  },
  {
   "cell_type": "code",
   "execution_count": 20,
   "id": "0719f6a3",
   "metadata": {},
   "outputs": [
    {
     "name": "stdout",
     "output_type": "stream",
     "text": [
      "Площадь наибольшего квадрата равна: 16.0\n",
      "Его координаты: (0, 4), (0, 0), (4, 0), (4, 4)\n",
      "Площадь наименьшего квадрата равна: 1.0\n",
      "Его координаты: (0, 4), (0, 3), (1, 3), (1, 4)\n"
     ]
    }
   ],
   "source": [
    "if min_area == 0 and max_area == 0:\n",
    "    print(\"Квадрат не найден\")\n",
    "else:\n",
    "    print(f\"Площадь наибольшего квадрата равна: {max_area}\")\n",
    "    print(f\"Его координаты:\"\n",
    "          f\" {points[coords_max_area[0]].x, points[coords_max_area[0]].y},\"\n",
    "          f\" {points[coords_max_area[1]].x, points[coords_max_area[1]].y},\"\n",
    "          f\" {points[coords_max_area[2]].x, points[coords_max_area[2]].y},\"\n",
    "          f\" {points[coords_max_area[3]].x, points[coords_max_area[3]].y}\")\n",
    "    print(f\"Площадь наименьшего квадрата равна: {min_area}\")\n",
    "    print(f\"Его координаты:\"\n",
    "          f\" {points[coords_min_area[0]].x, points[coords_min_area[0]].y},\"\n",
    "          f\" {points[coords_min_area[1]].x, points[coords_min_area[1]].y},\"\n",
    "          f\" {points[coords_min_area[2]].x, points[coords_min_area[2]].y},\"\n",
    "          f\" {points[coords_min_area[3]].x, points[coords_min_area[3]].y}\")"
   ]
  },
  {
   "cell_type": "markdown",
   "id": "6de46e5a",
   "metadata": {},
   "source": [
    "#### Запишем координаты по X и Y в отдельные переменные, чтобы вывести графики"
   ]
  },
  {
   "cell_type": "code",
   "execution_count": 21,
   "id": "5cff005e",
   "metadata": {
    "scrolled": true
   },
   "outputs": [],
   "source": [
    "coords_x_min = [points[coords_min_area[i]].x for i in range(len(coords_min_area))]\n",
    "coords_y_min = [points[coords_min_area[i]].y for i in range(len(coords_min_area))]\n",
    "coords_x_min.append(points[coords_min_area[0]].x)\n",
    "coords_y_min.append(points[coords_min_area[0]].y)"
   ]
  },
  {
   "cell_type": "code",
   "execution_count": 22,
   "id": "5272e2e6",
   "metadata": {},
   "outputs": [],
   "source": [
    "coords_x_max = [points[coords_max_area[i]].x for i in range(len(coords_max_area))]\n",
    "coords_y_max = [points[coords_max_area[i]].y for i in range(len(coords_max_area))]\n",
    "coords_x_max.append(points[coords_max_area[0]].x)\n",
    "coords_y_max.append(points[coords_max_area[0]].y)"
   ]
  },
  {
   "cell_type": "markdown",
   "id": "8622ded3",
   "metadata": {},
   "source": [
    "#### Выведем графики с использованием записанных ранее координат"
   ]
  },
  {
   "cell_type": "code",
   "execution_count": 23,
   "id": "1a756c5d",
   "metadata": {},
   "outputs": [
    {
     "data": {
      "text/plain": [
       "<matplotlib.legend.Legend at 0x191a9629100>"
      ]
     },
     "execution_count": 23,
     "metadata": {},
     "output_type": "execute_result"
    },
    {
     "data": {
      "image/png": "[encoded data removed]",
      "text/plain": [
       "<Figure size 288x288 with 1 Axes>"
      ]
     },
     "metadata": {
      "needs_background": "light"
     },
     "output_type": "display_data"
    }
   ],
   "source": [
    "# Построение графика\n",
    "plt.figure(figsize=(4,4))\n",
    "plt.title(\"Квадрат\") # заголовок\n",
    "plt.xlabel(\"x\") # ось абсцисс\n",
    "plt.ylabel(\"y\") # ось ординат\n",
    "plt.grid()      # включение отображение сетки\n",
    "plt.plot(coords_x_min, coords_y_min, coords_x_max, coords_y_max, marker=\"o\")  # построение графика\n",
    "plt.legend(['min', 'max'], loc=2, title='Квадрат')"
   ]
  },
  {
   "cell_type": "code",
   "execution_count": null,
   "id": "cecb9f2a",
   "metadata": {},
   "outputs": [],
   "source": []
  }
 ],
 "metadata": {
  "kernelspec": {
   "display_name": "Python 3 (ipykernel)",
   "language": "python",
   "name": "python3"
  },
  "language_info": {
   "codemirror_mode": {
    "name": "ipython",
    "version": 3
   },
   "file_extension": ".py",
   "mimetype": "text/x-python",
   "name": "python",
   "nbconvert_exporter": "python",
   "pygments_lexer": "ipython3",
   "version": "3.9.7"
  }
 },
 "nbformat": 4,
 "nbformat_minor": 5
}
